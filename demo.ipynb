{
 "cells": [
  {
   "cell_type": "code",
   "execution_count": 17,
   "id": "90bcb83b",
   "metadata": {},
   "outputs": [
    {
     "name": "stdout",
     "output_type": "stream",
     "text": [
      "n_qubit = 14\n",
      "HF E_max: 17.589436842216198\n",
      "HF E_min: -48.25730000397694\n",
      "Hartree-Fock dE = 65.84673684619314\n",
      "Hartree-Fock maximum Slater Determinant state: 00000000000000\n",
      "Hartree-Fock minimum Slater Determinant state: 01111111111111\n",
      "17.589436842216198 -68.14605477365004\n",
      "Lanczos algorithm with 20 iterations, dE = 13.130453936152458\n",
      "FCI maximum: 17.589436842216198, FCI minimum: -73.87687308829703\n",
      "Relative Difference: 93.73450364511186%\n"
     ]
    }
   ],
   "source": [
    "import numpy as np\n",
    "from openfermion import InteractionOperator, count_qubits\n",
    "from openfermion.transforms import get_fermion_operator\n",
    "from openfermion.linalg import eigenspectrum\n",
    "from sdstate import *\n",
    "import pickle\n",
    "\n",
    "def load_hamiltonain(file_name):\n",
    "    with open(\"./Hamiltonians/\"+file_name, 'rb') as f:\n",
    "        loaded_Hf = pickle.load(f)\n",
    "    return loaded_Hf\n",
    "\n",
    "if __name__ == \"__main__\":\n",
    "#     Steps to run in Lanczos iteration. Recommand to use no more than 3 for large systems of ~100 qubits\n",
    "    steps = 20\n",
    "#     Running multiprocessing of Hartree-Fock estimation. Running N threads in parallel for an n-qubit system.\n",
    "    parallelization = True\n",
    "#     Running FCI\n",
    "    FCI = True\n",
    "    \n",
    "    #     \"LiH\", \"H4-line\", \"H4-rectangle\", \"H4-square\", \"H2O\"\n",
    "    name = \"H2O\"\n",
    "    Hf = load_hamiltonain(name + \".pkl\")\n",
    "    n = count_qubits(Hf)\n",
    "#     Hf -= of.FermionOperator((), Hf.terms[()])\n",
    "    print(\"n_qubit = {}\".format(n))\n",
    "    max_state, min_state, HF_max, HF_min = HF_spectrum_range(Hf, multiprocessing = parallelization)\n",
    "    HF_dE = HF_max - HF_min\n",
    "    print(\"Hartree-Fock dE = {}\".format(HF_dE))\n",
    "    print(\"Hartree-Fock maximum Slater Determinant state: {}\".format(max_state[::-1]))\n",
    "    print(\"Hartree-Fock minimum Slater Determinant state: {}\".format(min_state[::-1]))\n",
    "    lanczos_max, lanczos_min = lanczos_total_range(Hf, steps = steps, states = [max_state, min_state])\n",
    "    dE_lanczos = lanczos_max-lanczos_min\n",
    "    print(lanczos_max,lanczos_min)\n",
    "    print(\"Lanczos algorithm with {} iterations, dE = {}\".format(steps, lanczos_dE))\n",
    "    if FCI:\n",
    "            eigenvalues = eigenspectrum(Hf, n)\n",
    "            E_max = max(eigenvalues)\n",
    "            E_min = min(eigenvalues)\n",
    "            print(f\"FCI maximum: {E_max}, FCI minimum: {E_min}\")\n",
    "            dE_FCI = E_max - E_min\n",
    "            print(f\"Relative Difference: {dE_lanczos/dE_FCI * 100}%\")"
   ]
  },
  {
   "cell_type": "markdown",
   "id": "3e60887c",
   "metadata": {},
   "source": [
    "n_qubit = 12\n",
    "HF E_max: 15.8753163276\n",
    "HF E_min: 12.824966791534049\n",
    "Hartree-Fock dE = 3.0503495360659514\n",
    "Hartree-Fock maximum Slater Determinant state: 000000000000\n",
    "Hartree-Fock minimum Slater Determinant state: 000000011111\n",
    "FCI maximum: 16.016892019029257, FCI minimum: 2.669082706205123\n",
    "15.8753163276 2.744862391447542\n",
    "Lanczos algorithm with 10 iterations, dE = 13.130453936152458\n",
    "\n",
    "n_qubit = 12\n",
    "HF E_max: 15.8753163276\n",
    "HF E_min: 12.824966791534049\n",
    "Hartree-Fock dE = 3.0503495360659514\n",
    "Hartree-Fock maximum Slater Determinant state: 000000000000\n",
    "Hartree-Fock minimum Slater Determinant state: 000000011111\n",
    "FCI maximum: 16.016892019029257, FCI minimum: 2.669082706205123\n",
    "98.57716253245923%\n",
    "15.8753163276 2.7174246467746253\n",
    "Lanczos algorithm with 30 iterations, dE = 13.130453936152458\n",
    "\n",
    "n_qubit = 14\n",
    "HF E_max: 17.589436842216198\n",
    "HF E_min: -48.25730000397694\n",
    "Hartree-Fock dE = 65.84673684619314\n",
    "Hartree-Fock maximum Slater Determinant state: 00000000000000\n",
    "Hartree-Fock minimum Slater Determinant state: 01111111111111\n",
    "17.589436842216198 -68.14605477365004\n",
    "Lanczos algorithm with 20 iterations, dE = 13.130453936152458\n",
    "FCI maximum: 17.589436842216198, FCI minimum: -73.87687308829703\n",
    "Relative Difference: 93.73450364511186%1"
   ]
  }
 ],
 "metadata": {
  "kernelspec": {
   "display_name": "Python 3 (ipykernel)",
   "language": "python",
   "name": "python3"
  },
  "language_info": {
   "codemirror_mode": {
    "name": "ipython",
    "version": 3
   },
   "file_extension": ".py",
   "mimetype": "text/x-python",
   "name": "python",
   "nbconvert_exporter": "python",
   "pygments_lexer": "ipython3",
   "version": "3.10.7"
  }
 },
 "nbformat": 4,
 "nbformat_minor": 5
}
