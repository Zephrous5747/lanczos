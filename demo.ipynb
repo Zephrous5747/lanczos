{
 "cells": [
  {
   "cell_type": "code",
   "execution_count": 9,
   "id": "fc9833c3",
   "metadata": {},
   "outputs": [
    {
     "name": "stdout",
     "output_type": "stream",
     "text": [
      "n_qubit = 8\n",
      "HF E_max: 37.772874624273\n",
      "HF E_min: 0\n",
      "Hartree-Fock dE = 37.772874624273\n",
      "Hartree-Fock maximum Slater Determinant state: 11111110\n",
      "Hartree-Fock minimum Slater Determinant state: 00000000\n",
      "FCI maximum: 38.81432088963932, FCI minimum: 20.797568669273332\n",
      "37.772874624273 -0.0\n",
      "Lanczos algorithm with 2 iterations, dE = 37.772874624273\n"
     ]
    }
   ],
   "source": [
    "import numpy as np\n",
    "from openfermion import InteractionOperator, count_qubits\n",
    "from openfermion.transforms import get_fermion_operator\n",
    "from openfermion.linalg import eigenspectrum\n",
    "from sdstate import *\n",
    "import pickle\n",
    "\n",
    "def load_hamiltonain(file_name):\n",
    "    with open(\"./Hamiltonians/\"+file_name, 'rb') as f:\n",
    "        loaded_Hf = pickle.load(f)\n",
    "    return loaded_Hf\n",
    "\n",
    "if __name__ == \"__main__\":\n",
    "#     Steps to run in Lanczos iteration. Recommand to use no more than 3 for large systems of ~100 qubits\n",
    "    steps = 2\n",
    "#     Running multiprocessing of Hartree-Fock estimation. Running N threads in parallel for an n-qubit system.\n",
    "    parallelization = True\n",
    "#     Running FCI\n",
    "    FCI = True\n",
    "    \n",
    "    #     \"LiH\", \"H4-line\", \"H4-rectangle\", \"H4-square\", \"H2O\"\n",
    "    name = \"H4-square\"\n",
    "    Hf = load_hamiltonain(name + \".pkl\")\n",
    "    n = count_qubits(Hf)\n",
    "    print(\"n_qubit = {}\".format(n))\n",
    "    max_state, min_state, HF_max, HF_min = HF_spectrum_range(Hf, multiprocessing = parallelization)\n",
    "    HF_dE = HF_max - HF_min\n",
    "    print(\"Hartree-Fock dE = {}\".format(HF_dE))\n",
    "    print(\"Hartree-Fock maximum Slater Determinant state: {}\".format(max_state[::-1]))\n",
    "    print(\"Hartree-Fock minimum Slater Determinant state: {}\".format(min_state[::-1]))\n",
    "    lanczos_max, lanczos_min = lanczos_total_range(Hf, steps = steps, states = [max_state, min_state])\n",
    "    lanczos_dE = lanczos_max-lanczos_min\n",
    "    if FCI:\n",
    "            eigenvalues = eigenspectrum(Hf, n)\n",
    "            E_max = max(eigenvalues)\n",
    "            E_min = min(eigenvalues)\n",
    "            print(f\"FCI maximum: {E_max}, FCI minimum: {E_min}\")\n",
    "    print(lanczos_max,lanczos_min)\n",
    "    print(\"Lanczos algorithm with {} iterations, dE = {}\".format(steps, lanczos_dE))"
   ]
  }
 ],
 "metadata": {
  "kernelspec": {
   "display_name": "Python 3 (ipykernel)",
   "language": "python",
   "name": "python3"
  },
  "language_info": {
   "codemirror_mode": {
    "name": "ipython",
    "version": 3
   },
   "file_extension": ".py",
   "mimetype": "text/x-python",
   "name": "python",
   "nbconvert_exporter": "python",
   "pygments_lexer": "ipython3",
   "version": "3.10.7"
  }
 },
 "nbformat": 4,
 "nbformat_minor": 5
}
