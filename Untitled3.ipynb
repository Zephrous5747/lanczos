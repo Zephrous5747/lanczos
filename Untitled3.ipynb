{
 "cells": [
  {
   "cell_type": "code",
   "execution_count": 13,
   "id": "de9fc839",
   "metadata": {},
   "outputs": [
    {
     "name": "stdout",
     "output_type": "stream",
     "text": [
      "14\n"
     ]
    }
   ],
   "source": [
    "import sys\n",
    "sys.path.append(\"../\")\n",
    "import pickle\n",
    "import io\n",
    "import saveload_utils as sl\n",
    "import ferm_utils as feru\n",
    "import csa_utils as csau\n",
    "import var_utils as varu\n",
    "import openfermion as of\n",
    "import numpy as np\n",
    "import scipy\n",
    "from openfermion import FermionOperator\n",
    "import copy\n",
    "from itertools import product\n",
    "from sdstate import *\n",
    "\n",
    "mol = 'h2o'\n",
    "save = False\n",
    "\n",
    "# Get two-body tensor\n",
    "Hf = sl.load_fermionic_hamiltonian(mol)\n",
    "const = Hf.terms[()]\n",
    "print(of.count_qubits(Hf))\n",
    "# eigenvalues = of.linalg.eigenspectrum(Hf)\n",
    "# E_max = max(eigenvalues)\n",
    "# E_min = min(eigenvalues)\n",
    "# print(\"E_max: {}\".format(E_max))\n",
    "# print(\"E_min: {}\".format(E_min))\n",
    "# dE = E_max - E_min\n",
    "# print(\"dE: {}\".format(dE))\n",
    "# print()\n",
    "\n",
    "# spin_orb = of.count_qubits(Hf)  \n",
    "# spin_flag = True\n",
    "# Htbt = feru.get_chemist_tbt(Hf, spin_orb, spin_orb = spin_flag)\n",
    "# one_body = varu.get_one_body_correction_from_tbt(Hf, feru.get_chemist_tbt(Hf))\n",
    "# onebody_matrix = feru.get_obt(one_body, n = spin_orb, spin_orb = spin_flag)\n",
    "# Htbt += feru.onebody_to_twobody(onebody_matrix)\n",
    "# # print(of.normal_ordered(Hf - get_ferm_op(Htbt, spin_flag)))\n",
    "# HF_dE = HF_spectrum_range(Htbt)\n",
    "# print(\"HF dE: {}\".format(HF_dE))\n",
    "# print(\"Relative difference in eigenspectrum: {}%\".format(round((dE-HF_dE)/dE * 100, 3)))"
   ]
  },
  {
   "cell_type": "code",
   "execution_count": 11,
   "id": "e9c3bbfd",
   "metadata": {},
   "outputs": [
    {
     "name": "stdout",
     "output_type": "stream",
     "text": [
      "HF E_max: 2.0657171453611776\n",
      "HF E_min: -7.76736213574856\n",
      "Hartree-Fock dE = 9.833079281109738\n",
      "001111111111\n",
      "111100000000\n",
      "2.0807753802501314 -7.781477499307876\n",
      "Lanczos algorithm with 2 iterations, dE = 9.862252879558007\n"
     ]
    }
   ],
   "source": [
    "steps = 2\n",
    "max_state, min_state, HF_max, HF_min = HF_spectrum_range(Hf, multiprocessing = True)\n",
    "HF_dE = HF_max - HF_min\n",
    "print(\"Hartree-Fock dE = {}\".format(HF_dE))\n",
    "print(max_state)\n",
    "print(min_state)\n",
    "lanczos_max, lanczos_min = lanczos_total_range(Hf, steps = steps, states = [max_state, min_state], multiprocessing = False)\n",
    "lanczos_dE = lanczos_max-lanczos_min\n",
    "print(lanczos_max,lanczos_min)\n",
    "print(\"Lanczos algorithm with {} iterations, dE = {}\".format(steps, lanczos_dE))"
   ]
  },
  {
   "cell_type": "code",
   "execution_count": 3,
   "id": "4bfa304b",
   "metadata": {},
   "outputs": [
    {
     "name": "stdout",
     "output_type": "stream",
     "text": [
      "0b11\n",
      "0b11000\n"
     ]
    }
   ],
   "source": [
    "n = 5\n",
    "ne = 2\n",
    "low_int = (1 << ne) - 1\n",
    "print(bin(low_int))\n",
    "high_int = ((1 << ne) - 1) << (n-ne)\n",
    "print(bin(high_int))"
   ]
  }
 ],
 "metadata": {
  "kernelspec": {
   "display_name": "Python 3 (ipykernel)",
   "language": "python",
   "name": "python3"
  },
  "language_info": {
   "codemirror_mode": {
    "name": "ipython",
    "version": 3
   },
   "file_extension": ".py",
   "mimetype": "text/x-python",
   "name": "python",
   "nbconvert_exporter": "python",
   "pygments_lexer": "ipython3",
   "version": "3.10.7"
  }
 },
 "nbformat": 4,
 "nbformat_minor": 5
}
