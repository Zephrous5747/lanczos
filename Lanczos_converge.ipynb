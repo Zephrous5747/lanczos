{
 "cells": [
  {
   "cell_type": "code",
   "execution_count": 1,
   "id": "d9503a50",
   "metadata": {
    "scrolled": true
   },
   "outputs": [
    {
     "name": "stdout",
     "output_type": "stream",
     "text": [
      "HF E_max: 9.871630493000342\n",
      "HF E_min: 0\n",
      "011111111111 000000000000\n",
      "{'111111111110': 1}\n",
      "{'111111111110': -2.6655419399501667e-09, '111111111011': 0.4293606530310168, '111111101111': 0.018981756064837985, '101111111111': -0.6248226463510367}\n",
      "{'111111111110': -6.4909654327688995e-09, '111111111011': 0.009343874730604718, '111111101111': -0.07139102456797246, '101111111111': 0.0042520308092570125}\n",
      "{'111111111110': -2.2980101139029727e-07, '111111111011': -7.348684619157275e-09, '111111101111': -9.66770230710623e-10, '101111111111': -8.345054508529515e-11}\n",
      "{'111111111110': 0.0004386495846085276, '111111111011': -0.012776558259042444, '111111101111': -0.003136319125242163, '101111111111': -0.04648407096777241}\n",
      "[13.575416478832102, 10.298581000890804, 9.719666837606406, 9.718184454589803, 9.718184454589803] [13.575416478832102, 13.579201739047438, 13.579448219167265, 13.579448404879459, 13.579448404879459]\n"
     ]
    },
    {
     "data": {
      "image/png": "[encoded data removed]",
      "text/plain": [
       "<Figure size 640x480 with 1 Axes>"
      ]
     },
     "metadata": {},
     "output_type": "display_data"
    }
   ],
   "source": [
    "import pickle\n",
    "import io\n",
    "import numpy as np\n",
    "import scipy\n",
    "from openfermion import FermionOperator\n",
    "import openfermion as of\n",
    "from itertools import product\n",
    "from sdstate import *\n",
    "import matplotlib.pyplot as plt\n",
    "\n",
    "\n",
    "def lanczos_step(Hf: FermionOperator, steps, state = None, ne = None):\n",
    "    \"\"\"Applies lanczos iteration on the given 2e tensor Htbt, with number of steps given by steps,\n",
    "    with initial state as input or number of electrons as input ne.\n",
    "    Returns normalized states in each iteration, and a tridiagonal matrix with main diagonal in A and sub-diagonal in B.\n",
    "    \"\"\"\n",
    "    n_qubits = of.utils.count_qubits(Hf)\n",
    "    if state == None:\n",
    "        if ne == None:\n",
    "            ne = n_qubits // 2\n",
    "        state = sdstate(int(\"1\"*ne + \"0\"*(n_qubits - ne), 2))\n",
    "        state += sdstate(int(\"0\"*(n_qubits - ne) + \"1\"*ne, 2))\n",
    "    state.normalize()\n",
    "    print(state)\n",
    "    tmp = state @ Hf\n",
    "    ai = tmp @ state\n",
    "    tmp -= ai * state\n",
    "    A = [ai]\n",
    "    B = []\n",
    "    states = [state]\n",
    "    vi = tmp\n",
    "    E_mins = [state.exp(Hf)]\n",
    "    E_maxs = [state.exp(Hf)]\n",
    "    for i in range(1,steps):\n",
    "        bi = tmp.norm()\n",
    "        if bi != 0:\n",
    "            vi = tmp / bi\n",
    "        tmp = vi @ Hf\n",
    "        ai = vi @ tmp\n",
    "        tmp -= ai * vi \n",
    "        tmp -= bi * states[i - 1]\n",
    "        states.append(vi)\n",
    "        A.append(ai)\n",
    "        B.append(bi)\n",
    "        eigs, _ = eigh_tridiagonal(A,B)\n",
    "        print(tmp)\n",
    "        E_mins.append(min(eigs))\n",
    "        E_maxs.append(max(eigs))\n",
    "    return states, E_mins, E_maxs\n",
    "\n",
    "def load_hamiltonain(file_name):\n",
    "    with open(\"./Hamiltonians/\"+file_name, 'rb') as f:\n",
    "        loaded_Hf = pickle.load(f)\n",
    "    return loaded_Hf\n",
    "#     Constants\n",
    "steps = 5\n",
    "run_FCI = True\n",
    "\n",
    "if __name__ == \"__main__\":\n",
    "\n",
    "#     \"LiH\", \"H4-line\", \"H4-rectangle\", \"H4-square\", \"H2O\"\n",
    "    for name in [\"LiH\"]:\n",
    "#         name = \"LiH\"\n",
    "        Hf = load_hamiltonain(name + \".pkl\")\n",
    "        n =  of.count_qubits(Hf)  \n",
    "        const = Hf.terms[()]\n",
    "\n",
    "        max_state, min_state, HF_max, HF_min = HF_spectrum_range(Hf, multiprocessing = False)\n",
    "        print(max_state, min_state)\n",
    "        x = list(range(steps))\n",
    "        _, Lanczos_mins, Lanczos_maxes = lanczos_step(Hf, steps, state = sdstate(int(max_state,2), n_qubit = n))\n",
    "#         print([i + const for i in Lanczos_mins])\n",
    "#         Running FCI by diagnolizing the Hamiltonian in full Fock Space, takes \n",
    "        print( Lanczos_mins, Lanczos_maxes)\n",
    "        plt.plot(x, Lanczos_maxes, label = \"Lanczos iterations\", color = \"blue\")\n",
    "        if run_FCI:\n",
    "            eigenvalues = of.linalg.eigenspectrum(Hf, n)\n",
    "            E_max = max(eigenvalues)\n",
    "            E_min = min(eigenvalues)\n",
    "            y_min = [E_max] * (steps)\n",
    "            plt.plot(x, y_min, label = \"FCI Energy\", color = \"black\")\n",
    "        y_HF = [HF_max] * (steps)\n",
    "        plt.title(name)\n",
    "        plt.plot(x, y_HF, label = \"HF Energy\", color = \"red\")\n",
    "        plt.ylabel(\"Energy\")\n",
    "        plt.xlabel(\"Number of iterations\")\n",
    "        plt.legend()\n",
    "        plt.show()"
   ]
  },
  {
   "cell_type": "code",
   "execution_count": null,
   "id": "6ff516cc",
   "metadata": {},
   "outputs": [],
   "source": [
    "# _, Lanczos_mins, Lanczos_maxs = lanczos_step(Htbt, steps, state = fstate(min_state))\n",
    "# print([i + const for i in Lanczos_mins])\n",
    "# y_min = [E_min] * (steps)\n",
    "# y_HF = [HF_min] * (steps)\n",
    "# y_MP2 = [MP2_min] * (steps)\n",
    "# x = list(range(steps))\n",
    "# plt.title(name)\n",
    "# plt.plot(x, Lanczos_mins, label = \"Lanczos iterations\", color = \"blue\")\n",
    "# plt.plot(x, y_HF, label = \"HF Energy\", color = \"red\")\n",
    "# plt.plot(x, y_min, label = \"FCI Energy\", color = \"black\")\n",
    "# plt.plot(x, y_MP2, label = \"MP2 Energy\", color = \"magenta\")\n",
    "# plt.ylabel(\"Energy\")\n",
    "# plt.xlabel(\"Number of iterations\")\n",
    "# plt.legend()\n",
    "# plt.show()"
   ]
  },
  {
   "cell_type": "code",
   "execution_count": null,
   "id": "d538e223",
   "metadata": {},
   "outputs": [],
   "source": [
    "#         Construct obt and tbt, in Physist notation\n",
    "#         obt = feru.get_obt(Hf, n = n, spin_orb = True )\n",
    "#         tbt = feru.get_two_body_tensor(Hf, n = n)\n",
    "#         obt_eigs, _ = np.linalg.eig(obt)\n",
    "        # Construct antisymmetric \n",
    "#         atbt = np.zeros(tbt.shape)\n",
    "#         for i,j,k,l in product(range(n), repeat = 4):\n",
    "#             atbt[i,j,k,l] = tbt[i,j,k,l] - tbt[i,j,l,k]\n",
    "#         tmp = {}\n",
    "#         # Construct Chemist notation Htbt\n",
    "#         Htbt = feru.get_chemist_tbt(Hf, n, spin_orb = True)\n",
    "#         one_body = varu.get_one_body_correction_from_tbt(Hf, feru.get_chemist_tbt(Hf))\n",
    "#         onebody_matrix = feru.get_obt(one_body, n = n, spin_orb = True)\n",
    "#         Htbt += feru.onebody_to_twobody(onebody_matrix)\n",
    "#         print(MP2_min +const)\n",
    "#         print(E_min + const)"
   ]
  }
 ],
 "metadata": {
  "kernelspec": {
   "display_name": "Python 3 (ipykernel)",
   "language": "python",
   "name": "python3"
  },
  "language_info": {
   "codemirror_mode": {
    "name": "ipython",
    "version": 3
   },
   "file_extension": ".py",
   "mimetype": "text/x-python",
   "name": "python",
   "nbconvert_exporter": "python",
   "pygments_lexer": "ipython3",
   "version": "3.10.7"
  }
 },
 "nbformat": 4,
 "nbformat_minor": 5
}
