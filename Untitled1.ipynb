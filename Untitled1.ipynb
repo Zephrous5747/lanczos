{
 "cells": [
  {
   "cell_type": "code",
   "execution_count": 1,
   "id": "d340c3a1",
   "metadata": {},
   "outputs": [
    {
     "name": "stdout",
     "output_type": "stream",
     "text": [
      "['mol', 'dE_Fock', 'dE', '|deltaE|', '|%deltaE|']\n",
      "['h2', '0.8567854005948085', '0.9871483211659', '0.13036292057109156', '13.206011475268747']\n",
      "['h4', '2.6245790607368105', '3.153557202682254', '0.5289781419454433', '16.774014484199675']\n",
      "['lih', '5.521973589517897', '6.352999560332109', '0.8310259708142125', '13.080844141767416']\n",
      "['nh3', '46.071388913685546', '46.071385987519854', '-2.9261656919743473e-06', '-6.351373264019034e-06']\n",
      "['h2o', '55.372159797347166', '55.37215768691107', '-2.1104360925505716e-06', '-3.811366904796341e-06']\n"
     ]
    },
    {
     "data": {
      "text/plain": [
       "1.23e+21"
      ]
     },
     "execution_count": 1,
     "metadata": {},
     "output_type": "execute_result"
    }
   ],
   "source": [
    "import pickle\n",
    "with open(\"./Lanczos_results.pkl\", \"rb\") as f:\n",
    "    table = pickle.load(f)\n",
    "for t in table:\n",
    "    print(t)\n",
    "from math import floor, log10\n",
    "def rnd(x, n):\n",
    "    return round(x, -int(floor(log10(abs(x))))+n)\n",
    "rnd(1.234e21, 2)"
   ]
  }
 ],
 "metadata": {
  "kernelspec": {
   "display_name": "Python 3 (ipykernel)",
   "language": "python",
   "name": "python3"
  },
  "language_info": {
   "codemirror_mode": {
    "name": "ipython",
    "version": 3
   },
   "file_extension": ".py",
   "mimetype": "text/x-python",
   "name": "python",
   "nbconvert_exporter": "python",
   "pygments_lexer": "ipython3",
   "version": "3.10.7"
  }
 },
 "nbformat": 4,
 "nbformat_minor": 5
}
