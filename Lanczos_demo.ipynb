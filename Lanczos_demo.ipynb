{
 "cells": [
  {
   "cell_type": "code",
   "execution_count": 13,
   "id": "529e1dae",
   "metadata": {},
   "outputs": [
    {
     "name": "stdout",
     "output_type": "stream",
     "text": [
      "Number of spin orbitals: 20\n",
      "(-34.80664728697383, -107.42428719965977)\n"
     ]
    }
   ],
   "source": [
    "import openfermion as of\n",
    "from sdstate import *\n",
    "import saveload_utils as sl\n",
    "\n",
    "mol = \"n2\"\n",
    "Hf = sl.load_fermionic_hamiltonian(mol, prefix = \"./\")\n",
    "spin_orbs = of.count_qubits(Hf)\n",
    "print(f\"Number of spin orbitals: {spin_orbs}\")\n",
    "neutral_enum = 14\n",
    "delta_enum = 2\n",
    "e_nums = list(range(neutral_enum - delta_enum, neutral_enum + delta_enum))\n",
    "print(lanczos_total_range(Hf, 2, e_nums = e_nums, multiprocessing = True))"
   ]
  }
 ],
 "metadata": {
  "kernelspec": {
   "display_name": "Python 3 (ipykernel)",
   "language": "python",
   "name": "python3"
  },
  "language_info": {
   "codemirror_mode": {
    "name": "ipython",
    "version": 3
   },
   "file_extension": ".py",
   "mimetype": "text/x-python",
   "name": "python",
   "nbconvert_exporter": "python",
   "pygments_lexer": "ipython3",
   "version": "3.10.7"
  }
 },
 "nbformat": 4,
 "nbformat_minor": 5
}
