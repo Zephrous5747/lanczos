{
 "cells": [
  {
   "cell_type": "code",
   "execution_count": 2,
   "id": "529e1dae",
   "metadata": {},
   "outputs": [
    {
     "name": "stdout",
     "output_type": "stream",
     "text": [
      "Number of spin orbitals: 12\n",
      "(-1.865888555575717, -13.15094535007822)\n",
      "(-1.8658885555757156, -13.150945350078224)\n",
      "(-2.8243630906151043, -13.172472760779392)\n"
     ]
    }
   ],
   "source": [
    "import openfermion as of\n",
    "from sdstate import *\n",
    "import pickle\n",
    "import numpy as np\n",
    "path = \"./Hamiltonians/\"\n",
    "mol = \"LiH\"\n",
    "with open(path + mol + \".pkl\", \"rb\") as f:\n",
    "    Hf = pickle.load(f)\n",
    "spin_orbs = of.count_qubits(Hf)\n",
    "print(f\"Number of spin orbitals: {spin_orbs}\")\n",
    "\n",
    "def get_1e_2e_tensor(Hf, n):\n",
    "#     Get the tensor from FermionOperator, in spin orbital basis, as a tuple of 1e and 2e tensor\n",
    "    Hf = of.chemist_ordered(Hf)\n",
    "    H1e = np.zeros((n,n))\n",
    "    H2e = np.zeros((n,n,n,n))\n",
    "    for term, coeff in Hf.terms.items():\n",
    "        if len(term) == 2:\n",
    "            H1e[term[0][0], term[1][0]] = coeff\n",
    "        elif len(term) ==4:\n",
    "            H2e[term[0][0], term[1][0],term[2][0], term[3][0]] = coeff\n",
    "    return H1e, H2e\n",
    "H1e, H2e = get_1e_2e_tensor(Hf, spin_orbs)\n",
    "# print(Hf)\n",
    "# Remove constant term to eliminate constant shif\n",
    "Hf -= Hf.terms[()]\n",
    "neutral_enum = 4\n",
    "# The range of electron number subspaces to search\n",
    "delta_enum = 2\n",
    "e_nums = list(range(neutral_enum - delta_enum, neutral_enum + delta_enum))\n",
    "print(lanczos_total_range(Hf, 2, e_nums = e_nums))\n",
    "print(lanczos_total_range((H1e, H2e), 2, e_nums = e_nums))\n",
    "state1 = sdstate(int(\"111100000000\", 2), n_qubit = spin_orbs)\n",
    "state2 = sdstate(int(\"000000001111\", 2), n_qubit = spin_orbs)\n",
    "states = [state1, state2]\n",
    "print(lanczos_total_range(Hf, 2, states = states))"
   ]
  },
  {
   "cell_type": "code",
   "execution_count": null,
   "id": "78af6309",
   "metadata": {},
   "outputs": [],
   "source": []
  }
 ],
 "metadata": {
  "kernelspec": {
   "display_name": "Python 3 (ipykernel)",
   "language": "python",
   "name": "python3"
  },
  "language_info": {
   "codemirror_mode": {
    "name": "ipython",
    "version": 3
   },
   "file_extension": ".py",
   "mimetype": "text/x-python",
   "name": "python",
   "nbconvert_exporter": "python",
   "pygments_lexer": "ipython3",
   "version": "3.10.7"
  }
 },
 "nbformat": 4,
 "nbformat_minor": 5
}
